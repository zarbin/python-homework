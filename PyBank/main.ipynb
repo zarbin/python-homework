{
 "metadata": {
  "language_info": {
   "codemirror_mode": {
    "name": "ipython",
    "version": 3
   },
   "file_extension": ".py",
   "mimetype": "text/x-python",
   "name": "python",
   "nbconvert_exporter": "python",
   "pygments_lexer": "ipython3",
   "version": "3.7.7-final"
  },
  "orig_nbformat": 2,
  "kernelspec": {
   "name": "python3",
   "display_name": "Python 3.7.7 64-bit ('dev': conda)",
   "metadata": {
    "interpreter": {
     "hash": "020233aa4e4c79b6715603a698a4afd168db252191b5d10ebd9ea8a4e9035a14"
    }
   }
  }
 },
 "nbformat": 4,
 "nbformat_minor": 2,
 "cells": [
  {
   "cell_type": "code",
   "execution_count": 58,
   "metadata": {
    "tags": []
   },
   "outputs": [
    {
     "output_type": "stream",
     "name": "stdout",
     "text": [
      "['Date', 'Profit/Losses']\n['Date', 'Profit/Losses', 'Change']\n['Jan-2010', '867884', 0]\n['Feb-2010', '984655', 116771]\n['Mar-2010', '322013', -662642]\n['Apr-2010', '-69417', -391430]\n['May-2010', '310503', 379920]\n['Jun-2010', '522857', 212354]\n['Jul-2010', '1033096', 510239]\n['Aug-2010', '604885', -428211]\n['Sep-2010', '-216386', -821271]\n['Oct-2010', '477532', 693918]\n['Nov-2010', '893810', 416278]\n['Dec-2010', '-80353', -974163]\n['Jan-2011', '779806', 860159]\n['Feb-2011', '-335203', -1115009]\n['Mar-2011', '697845', 1033048]\n['Apr-2011', '793163', 95318]\n['May-2011', '485070', -308093]\n['Jun-2011', '584122', 99052]\n['Jul-2011', '62729', -521393]\n['Aug-2011', '668179', 605450]\n['Sep-2011', '899906', 231727]\n['Oct-2011', '834719', -65187]\n['Nov-2011', '132003', -702716]\n['Dec-2011', '309978', 177975]\n['Jan-2012', '-755566', -1065544]\n['Feb-2012', '1170593', 1926159]\n['Mar-2012', '252788', -917805]\n['Apr-2012', '1151518', 898730]\n['May-2012', '817256', -334262]\n['Jun-2012', '570757', -246499]\n['Jul-2012', '506702', -64055]\n['Aug-2012', '-1022534', -1529236]\n['Sep-2012', '475062', 1497596]\n['Oct-2012', '779976', 304914]\n['Nov-2012', '144175', -635801]\n['Dec-2012', '542494', 398319]\n['Jan-2013', '359333', -183161]\n['Feb-2013', '321469', -37864]\n['Mar-2013', '67780', -253689]\n['Apr-2013', '471435', 403655]\n['May-2013', '565603', 94168]\n['Jun-2013', '872480', 306877]\n['Jul-2013', '789480', -83000]\n['Aug-2013', '999942', 210462]\n['Sep-2013', '-1196225', -2196167]\n['Oct-2013', '268997', 1465222]\n['Nov-2013', '-687986', -956983]\n['Dec-2013', '1150461', 1838447]\n['Jan-2014', '682458', -468003]\n['Feb-2014', '617856', -64602]\n['Mar-2014', '824098', 206242]\n['Apr-2014', '581943', -242155]\n['May-2014', '132864', -449079]\n['Jun-2014', '448062', 315198]\n['Jul-2014', '689161', 241099]\n['Aug-2014', '800701', 111540]\n['Sep-2014', '1166643', 365942]\n['Oct-2014', '947333', -219310]\n['Nov-2014', '578668', -368665]\n['Dec-2014', '988505', 409837]\n['Jan-2015', '1139715', 151210]\n['Feb-2015', '1029471', -110244]\n['Mar-2015', '687533', -341938]\n['Apr-2015', '-524626', -1212159]\n['May-2015', '158620', 683246]\n['Jun-2015', '87795', -70825]\n['Jul-2015', '423389', 335594]\n['Aug-2015', '840723', 417334]\n['Sep-2015', '568529', -272194]\n['Oct-2015', '332067', -236462]\n['Nov-2015', '989499', 657432]\n['Dec-2015', '778237', -211262]\n['Jan-2016', '650000', -128237]\n['Feb-2016', '-1100387', -1750387]\n['Mar-2016', '-174946', 925441]\n['Apr-2016', '757143', 932089]\n['May-2016', '445709', -311434]\n['Jun-2016', '712961', 267252]\n['Jul-2016', '-1163797', -1876758]\n['Aug-2016', '569899', 1733696]\n['Sep-2016', '768450', 198551]\n['Oct-2016', '102685', -665765]\n['Nov-2016', '795914', 693229]\n['Dec-2016', '60988', -734926]\n['Jan-2017', '138230', 77242]\n['Feb-2017', '671099', 532869]\n[0, 116771, -662642, -391430, 379920, 212354, 510239, -428211, -821271, 693918, 416278, -974163, 860159, -1115009, 1033048, 95318, -308093, 99052, -521393, 605450, 231727, -65187, -702716, 177975, -1065544, 1926159, -917805, 898730, -334262, -246499, -64055, -1529236, 1497596, 304914, -635801, 398319, -183161, -37864, -253689, 403655, 94168, 306877, -83000, 210462, -2196167, 1465222, -956983, 1838447, -468003, -64602, 206242, -242155, -449079, 315198, 241099, 111540, 365942, -219310, -368665, 409837, 151210, -110244, -341938, -1212159, 683246, -70825, 335594, 417334, -272194, -236462, 657432, -211262, -128237, -1750387, 925441, 932089, -311434, 267252, -1876758, 1733696, 198551, -665765, 693229, -734926, 77242, 532869, 0, 116771, -662642, -391430, 379920, 212354, 510239, -428211, -821271, 693918, 416278, -974163, 860159, -1115009, 1033048, 95318, -308093, 99052, -521393, 605450, 231727, -65187, -702716, 177975, -1065544, 1926159, -917805, 898730, -334262, -246499, -64055, -1529236, 1497596, 304914, -635801, 398319, -183161, -37864, -253689, 403655, 94168, 306877, -83000, 210462, -2196167, 1465222, -956983, 1838447, -468003, -64602, 206242, -242155, -449079, 315198, 241099, 111540, 365942, -219310, -368665, 409837, 151210, -110244, -341938, -1212159, 683246, -70825, 335594, 417334, -272194, -236462, 657432, -211262, -128237, -1750387, 925441, 932089, -311434, 267252, -1876758, 1733696, 198551, -665765, 693229, -734926, 77242, 532869]\nFinancial Analysis\n-------------------------------------\nTotal Months: 86\nTotal: $38382578\nAverage  Change: $-2288.2\nGreatest Increase in Profits: Feb-2012 $1170593\nGreatest Decrease in Profits: Sep-2013 $-1196225\n"
     ]
    },
    {
     "output_type": "execute_result",
     "data": {
      "text/plain": [
       "\"with open(path, 'w') as f:\\n    writer = csv.writer(f, delimeter=',')\\n\\n    # @TODO:\\n    # Loop through the list of records and write every record to the\\n    # output csv file\\n    for row in records:\\n        wirter.writerow(row)\""
      ]
     },
     "metadata": {},
     "execution_count": 58
    }
   ],
   "source": [
    "#Import the pathlib and csv library\n",
    "from pathlib import Path\n",
    "import csv\n",
    "\n",
    "\n",
    "#Set the file path\n",
    "csvpath = Path(\"budget_data.csv\")\n",
    "\n",
    "# Initialize variables\n",
    "total_amount = 0\n",
    "month_count = 0\n",
    "greatest_inc = 0\n",
    "greatest_inc_date = \"\"\n",
    "greatest_dec = 0\n",
    "greatest_dec_date = \"\"\n",
    "Change = 0\n",
    "average_change = 0\n",
    "\n",
    "# Initialize list of changes\n",
    "change_list = []\n",
    "\n",
    "#Open the csv file as an object\n",
    "with open(csvpath, newline='') as csvfile:\n",
    "\n",
    "\n",
    "    # Pass in the csv file to the csv.reader() function\n",
    "    csvreader = csv.reader(csvfile, delimiter=',')\n",
    "\n",
    "    #Read the header row.  next reads the first line and then bypasses it.. \n",
    "    header = next(csvreader)\n",
    "    #Print the header\n",
    "    print(header)\n",
    "\n",
    "\n",
    "    #Append the column 'Change' to the header\n",
    "    header.append(\"Change\")\n",
    "    print(header)\n",
    "    #Append the header to the list of records\n",
    "   #records.append(header)\n",
    "    #print(records)\n",
    "\n",
    "    #Read each row of data after the header\n",
    "    for row in csvreader:\n",
    "        # Print the row\n",
    "        #print(', '.join(row))\n",
    "        #print(row)\n",
    "        #calculate change by comparing current Profit/Losses value against previous rows Profit/Losses that is still contained in varaible ProfitLosses\n",
    "        if month_count >= 1:\n",
    "            Change = (int(row[1]) - ProfitLosses)  \n",
    "    \n",
    "        # Set the 'Date', 'ProfitLosses', 'Change' variables\n",
    "        Date = row[0]\n",
    "        ProfitLosses = int(row[1])\n",
    "\n",
    "        if greatest_dec == 0 and greatest_inc == 0:\n",
    "            greatest_dec = ProfitLosses\n",
    "            greatest_inc = ProfitLosses\n",
    "        elif greatest_inc < ProfitLosses:\n",
    "            greatest_inc = ProfitLosses\n",
    "            greatest_inc_date = Date\n",
    "        elif greatest_dec > ProfitLosses:\n",
    "            greatest_dec = ProfitLosses\n",
    "            greatest_dec_date = Date\n",
    "\n",
    "        month_count += 1\n",
    "        total_amount += ProfitLosses\n",
    "        \n",
    "        row.append(Change)\n",
    "        change_list.append(Change)\n",
    "        print(row) \n",
    "        \n",
    "        \n",
    "def Average(list_avg):\n",
    "    avg = sum(list_avg) / len(list_avg)\n",
    "    return avg\n",
    "\n",
    "average_change = round(Average(change_list), 2)\n",
    "        # @TODO: Calculate the average (round to the nearest 2 decimal places)\n",
    "        #average = round(revenue / count, 2)\n",
    "\n",
    "        # @TODO: Append the average to the row\n",
    "        #row.append(average)\n",
    "\n",
    "        # @TODO: Append the row to the list of records\n",
    "        #records.append(row)\n",
    "print(records)\n",
    "print(\"Financial Analysis\")\n",
    "print(\"-------------------------------------\")\n",
    "print(f\"Total Months: {month_count}\")\n",
    "print(f\"Total: ${total_amount}\")\n",
    "print(f\"Average  Change: ${average_change}\")\n",
    "print(f\"Greatest Increase in Profits: {greatest_inc_date} ${greatest_inc}\")\n",
    "print(f\"Greatest Decrease in Profits: {greatest_dec_date} ${greatest_dec}\")\n",
    "\n",
    "# @TODO: Set the path for the output.csv\n",
    "#path = 'output.txt'\n",
    "# @TODO:\n",
    "# Open the output path as a file and pass into the 'csv.writer()' function\n",
    "# Set the delimiter/separater as a ','\n",
    "\"\"\"with open(path, 'w') as f:\n",
    "    writer = csv.writer(f, delimeter=',')\n",
    "\n",
    "    # @TODO:\n",
    "    # Loop through the list of records and write every record to the\n",
    "    # output csv file\n",
    "    for row in records:\n",
    "        wirter.writerow(row)\"\"\"\n"
   ]
  },
  {
   "cell_type": "code",
   "execution_count": null,
   "metadata": {},
   "outputs": [],
   "source": []
  }
 ]
}