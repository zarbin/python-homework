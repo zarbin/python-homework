{
 "metadata": {
  "language_info": {
   "codemirror_mode": {
    "name": "ipython",
    "version": 3
   },
   "file_extension": ".py",
   "mimetype": "text/x-python",
   "name": "python",
   "nbconvert_exporter": "python",
   "pygments_lexer": "ipython3",
   "version": "3.7.7-final"
  },
  "orig_nbformat": 2,
  "kernelspec": {
   "name": "python3",
   "display_name": "Python 3.7.7 64-bit ('dev': conda)",
   "metadata": {
    "interpreter": {
     "hash": "020233aa4e4c79b6715603a698a4afd168db252191b5d10ebd9ea8a4e9035a14"
    }
   }
  }
 },
 "nbformat": 4,
 "nbformat_minor": 2,
 "cells": [
  {
   "cell_type": "code",
   "execution_count": 15,
   "metadata": {
    "tags": []
   },
   "outputs": [
    {
     "output_type": "stream",
     "name": "stdout",
     "text": [
      "Financial Analysis\n-------------------------------------\nTotal Months: 86\nTotal: $38382578\nAverage  Change: $-2315.12\nGreatest Increase in Profits: Feb-2012 $1926159\nGreatest Decrease in Profits: Sep-2013 $-2196167\n"
     ]
    }
   ],
   "source": [
    "#Import the pathlib and csv library\n",
    "from pathlib import Path\n",
    "import csv\n",
    "\n",
    "#Set the file path\n",
    "csvpath = Path(\"budget_data.csv\")\n",
    "\n",
    "# Initialize variables\n",
    "total_amount = 0\n",
    "month_count = 0\n",
    "greatest_inc = 0\n",
    "greatest_inc_date = \"\"\n",
    "greatest_dec = 0\n",
    "greatest_dec_date = \"\"\n",
    "change = 0\n",
    "average_change = 0\n",
    "\n",
    "# Initialize list of changes\n",
    "change_list = []\n",
    "\n",
    "#Open the csv file as an object\n",
    "with open(csvpath, newline='') as csvfile:\n",
    "\n",
    "\n",
    "    # Pass in the csv file to the csv.reader() function\n",
    "    csvreader = csv.reader(csvfile, delimiter=',')\n",
    "\n",
    "    #Read the header row.  next reads the first line and then bypasses it.. \n",
    "    header = next(csvreader)\n",
    "\n",
    "    #Append the column 'Change' to the header\n",
    "    header.append(\"Change\")\n",
    "\n",
    "    #Read each row of data after the header\n",
    "    for row in csvreader:\n",
    "        #calculate change by comparing current Profit/Losses value against previous rows Profit/Losses that is still contained in varaible ProfitLosses\n",
    "        if month_count >= 1:\n",
    "            change = (int(row[1]) - ProfitLosses)  \n",
    "        \n",
    "        row.append(change)\n",
    "        change_list.append(change)\n",
    "        #print(row)   # for spot checking row content\n",
    "\n",
    "        # Set the 'Date', 'ProfitLosses', 'Change' variables\n",
    "        Date = row[0]\n",
    "        ProfitLosses = int(row[1])\n",
    "\n",
    "        # capture greatest increase or greatest decrease of ProfitLosses\n",
    "        \n",
    "        if greatest_dec == 0 and greatest_inc == 0:\n",
    "            greatest_dec = change\n",
    "            greatest_inc = change\n",
    "        elif greatest_inc < change:\n",
    "            greatest_inc = change\n",
    "            greatest_inc_date = Date\n",
    "        elif greatest_dec > change:\n",
    "            greatest_dec = change\n",
    "            greatest_dec_date = Date\n",
    "\n",
    "        month_count += 1\n",
    "        total_amount += ProfitLosses\n",
    "            \n",
    "#functional to calculate average of a list subtract\n",
    "def Average(list_avg):\n",
    "    avg = sum(list_avg) / (len(list_avg)-1)\n",
    "    return avg\n",
    "\n",
    "#calculate average change\n",
    "average_change = round(Average(change_list), 2)\n",
    "\n",
    "#print results to terminal\n",
    "print(\"Financial Analysis\")\n",
    "print(\"-------------------------------------\")\n",
    "print(f\"Total Months: {month_count}\")\n",
    "print(f\"Total: ${total_amount}\")\n",
    "print(f\"Average  Change: ${average_change}\")\n",
    "print(f\"Greatest Increase in Profits: {greatest_inc_date} ${greatest_inc}\")\n",
    "print(f\"Greatest Decrease in Profits: {greatest_dec_date} ${greatest_dec}\")\n",
    "\n",
    "\n",
    "# Set the output file path\n",
    "output_path = Path(\"Financial_Analysis.txt\")\n",
    "\n",
    "# Open a file given the output path and print results\n",
    "with open(output_path, 'w') as file:\n",
    "    file.write(\"Financial Analysis\\n\")\n",
    "    file.write(\"-------------------------------------\\n\")\n",
    "    file.write(f\"Total Months: {month_count}\\n\")\n",
    "    file.write(f\"Total: ${total_amount}\\n\")\n",
    "    file.write(f\"Average  Change: ${average_change}\\n\")\n",
    "    file.write(f\"Greatest Increase in Profits: {greatest_inc_date} ${greatest_inc}\\n\")\n",
    "    file.write(f\"Greatest Decrease in Profits: {greatest_dec_date} ${greatest_dec}\\n\")\n"
   ]
  },
  {
   "cell_type": "code",
   "execution_count": null,
   "metadata": {},
   "outputs": [],
   "source": []
  }
 ]
}